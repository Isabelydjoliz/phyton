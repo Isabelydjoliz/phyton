{
  "nbformat": 4,
  "nbformat_minor": 0,
  "metadata": {
    "colab": {
      "provenance": [],
      "authorship_tag": "ABX9TyPoORUEzwDheVBbSF/+nRF3",
      "include_colab_link": true
    },
    "kernelspec": {
      "name": "python3",
      "display_name": "Python 3"
    },
    "language_info": {
      "name": "python"
    }
  },
  "cells": [
    {
      "cell_type": "markdown",
      "metadata": {
        "id": "view-in-github",
        "colab_type": "text"
      },
      "source": [
        "<a href=\"https://colab.research.google.com/github/Isabelydjoliz/phyton/blob/main/PAtresexerc%C3%ADcios.ipynb\" target=\"_parent\"><img src=\"https://colab.research.google.com/assets/colab-badge.svg\" alt=\"Open In Colab\"/></a>"
      ]
    },
    {
      "cell_type": "markdown",
      "source": [
        "1. Crie um uma função, que recebe 3 parâmetros e tenha um retorno em python. Ela deve\n",
        "calcular o quanto o usuário irá gastar de gasolina. Para isso o usuário deverá informar:\n",
        "- Quantos KM irá viajar\n",
        "- Quantos KM o carro consome por litro de gasolina\n",
        "- Qual o Preço da Gasolina\n",
        "Para teste de mesa: Ao Final retorne o Valor gasto. Exemplo: Irei viajar 500km, meu carro\n",
        "consome 9km por litro, a gasolina custa R$ 4,00. Irei gastar: R$ 222,22.\n",
        "O Retorno da Função seria R$ 222,22"
      ],
      "metadata": {
        "id": "oYjJKlG5gRFE"
      }
    },
    {
      "cell_type": "code",
      "source": [
        "def calcula_gasto_gasolina(km, consumo, preco):\n",
        "    litros_necessarios = km / consumo\n",
        "    gasto_total = litros_necessarios * preco\n",
        "    return gasto_total\n",
        "\n",
        "km = int(input(\"digite quantos KM você irá viajar: \"))\n",
        "consumo = int(input(\"digite quantos KM seu carro consome por litro: \"))\n",
        "preco = int(input(\"digite o preço da gasolina: \"))\n",
        "calcula_gasto_gasolina (km, consumo, preco)\n",
        "print(\"O gasto total será de:\", gasto_total)"
      ],
      "metadata": {
        "colab": {
          "base_uri": "https://localhost:8080/",
          "height": 263
        },
        "id": "lOHyYBkPgfml",
        "outputId": "4de097cc-12b0-4aad-d1cb-89a308241511"
      },
      "execution_count": 9,
      "outputs": [
        {
          "name": "stdout",
          "output_type": "stream",
          "text": [
            "digite quantos KM você irá viajar: 500\n",
            "digite quantos KM seu carro consome por litro: 9\n",
            "digite o preço da gasolina: 4\n"
          ]
        },
        {
          "output_type": "error",
          "ename": "NameError",
          "evalue": "ignored",
          "traceback": [
            "\u001b[0;31m---------------------------------------------------------------------------\u001b[0m",
            "\u001b[0;31mNameError\u001b[0m                                 Traceback (most recent call last)",
            "\u001b[0;32m<ipython-input-9-48e9c6f4ead9>\u001b[0m in \u001b[0;36m<cell line: 10>\u001b[0;34m()\u001b[0m\n\u001b[1;32m      8\u001b[0m \u001b[0mpreco\u001b[0m \u001b[0;34m=\u001b[0m \u001b[0mint\u001b[0m\u001b[0;34m(\u001b[0m\u001b[0minput\u001b[0m\u001b[0;34m(\u001b[0m\u001b[0;34m\"digite o preço da gasolina: \"\u001b[0m\u001b[0;34m)\u001b[0m\u001b[0;34m)\u001b[0m\u001b[0;34m\u001b[0m\u001b[0;34m\u001b[0m\u001b[0m\n\u001b[1;32m      9\u001b[0m \u001b[0mcalcula_gasto_gasolina\u001b[0m \u001b[0;34m(\u001b[0m\u001b[0mkm\u001b[0m\u001b[0;34m,\u001b[0m \u001b[0mconsumo\u001b[0m\u001b[0;34m,\u001b[0m \u001b[0mpreco\u001b[0m\u001b[0;34m)\u001b[0m\u001b[0;34m\u001b[0m\u001b[0;34m\u001b[0m\u001b[0m\n\u001b[0;32m---> 10\u001b[0;31m \u001b[0mprint\u001b[0m\u001b[0;34m(\u001b[0m\u001b[0;34m\"O gasto total será de:\"\u001b[0m\u001b[0;34m,\u001b[0m \u001b[0mgasto_total\u001b[0m\u001b[0;34m)\u001b[0m\u001b[0;34m\u001b[0m\u001b[0;34m\u001b[0m\u001b[0m\n\u001b[0m",
            "\u001b[0;31mNameError\u001b[0m: name 'gasto_total' is not defined"
          ]
        }
      ]
    }
  ]
}