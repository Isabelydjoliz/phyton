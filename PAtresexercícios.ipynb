{
  "nbformat": 4,
  "nbformat_minor": 0,
  "metadata": {
    "colab": {
      "provenance": [],
      "authorship_tag": "ABX9TyPv89IxjkQoTurBDSs6UWxP",
      "include_colab_link": true
    },
    "kernelspec": {
      "name": "python3",
      "display_name": "Python 3"
    },
    "language_info": {
      "name": "python"
    }
  },
  "cells": [
    {
      "cell_type": "markdown",
      "metadata": {
        "id": "view-in-github",
        "colab_type": "text"
      },
      "source": [
        "<a href=\"https://colab.research.google.com/github/Isabelydjoliz/phyton/blob/main/PAtresexerc%C3%ADcios.ipynb\" target=\"_parent\"><img src=\"https://colab.research.google.com/assets/colab-badge.svg\" alt=\"Open In Colab\"/></a>"
      ]
    },
    {
      "cell_type": "markdown",
      "source": [
        "1. Crie um uma função, que recebe 3 parâmetros e tenha um retorno em python. Ela deve\n",
        "calcular o quanto o usuário irá gastar de gasolina. Para isso o usuário deverá informar:\n",
        "- Quantos KM irá viajar\n",
        "- Quantos KM o carro consome por litro de gasolina\n",
        "- Qual o Preço da Gasolina\n",
        "Para teste de mesa: Ao Final retorne o Valor gasto. Exemplo: Irei viajar 500km, meu carro\n",
        "consome 9km por litro, a gasolina custa R$ 4,00. Irei gastar: R$ 222,22.\n",
        "O Retorno da Função seria R$ 222,22"
      ],
      "metadata": {
        "id": "oYjJKlG5gRFE"
      }
    },
    {
      "cell_type": "code",
      "source": [
        "def gasolina(dist, litroporkm, valor):\n",
        "  total = (dist/litroporkm) * valor\n",
        "  print(\"O valor gasto é: \", total)\n",
        "\n",
        "  return total"
      ],
      "metadata": {
        "id": "lOHyYBkPgfml"
      },
      "execution_count": 2,
      "outputs": []
    },
    {
      "cell_type": "code",
      "source": [
        "gasolina(500, 9, 4)"
      ],
      "metadata": {
        "colab": {
          "base_uri": "https://localhost:8080/"
        },
        "id": "wLSx62LwG3aE",
        "outputId": "99f8969f-79a1-4a75-cd69-7bbfe275dc14"
      },
      "execution_count": 4,
      "outputs": [
        {
          "output_type": "stream",
          "name": "stdout",
          "text": [
            "O valor gasto é:  222.22222222222223\n"
          ]
        },
        {
          "output_type": "execute_result",
          "data": {
            "text/plain": [
              "222.22222222222223"
            ]
          },
          "metadata": {},
          "execution_count": 4
        }
      ]
    },
    {
      "cell_type": "markdown",
      "source": [
        "2. Crie uma função que receba como parâmetro um texto qualquer, dentro dessa função deverá ter um laço de repetição que percorra cada letra do texto e retorne a quantidade de vogais encontradas nesse texto. Dentro da função deverá conter: Uma string assim: vogaisstring = aeiouAEIOU ou uma lista assim: vogaislista = ['a','e', 'i', 'o', 'u', 'A', 'E', 'I', 'O', 'U'] Para ir testando o algoritmo crie primeiro uma função que vá imprimindo aos poucos e somando aos poucos as vogais encontradas, assim com um texto pequeno você saberá se está funcionando, já que essa função poderá receber textos grandes posteriormente."
      ],
      "metadata": {
        "id": "kKq6uP_pHMmI"
      }
    },
    {
      "cell_type": "code",
      "source": [
        "def texto(escrito):\n",
        "  texto = str\n",
        "  a = escrito.count ('a')\n",
        "  b = escrito.count ('e')\n",
        "  c = escrito.count ('i')\n",
        "  d = escrito.count ('o')\n",
        "  e = escrito.count ('u')\n",
        "  f = escrito.count ('A')\n",
        "  g = escrito.count ('E')\n",
        "  h = escrito.count ('I')\n",
        "  i = escrito.count ('O')\n",
        "  j = escrito.count ('U')\n",
        "\n",
        "  total = a+b+c+d+e+f+g+h+i+j\n",
        "\n",
        "  print (\"A quantidade de vogais é: \",total)"
      ],
      "metadata": {
        "id": "TX2HQKiKHR8e"
      },
      "execution_count": 5,
      "outputs": []
    },
    {
      "cell_type": "code",
      "source": [
        "texto(\"Eu estudo na ETEC\")"
      ],
      "metadata": {
        "colab": {
          "base_uri": "https://localhost:8080/"
        },
        "id": "DSAKIMtKHXeO",
        "outputId": "a92c8c1e-aceb-4e7d-cffa-b163e46bb579"
      },
      "execution_count": 6,
      "outputs": [
        {
          "output_type": "stream",
          "name": "stdout",
          "text": [
            "A quantidade de vogais é:  8\n"
          ]
        }
      ]
    },
    {
      "cell_type": "markdown",
      "source": [
        "3. Sabendo disso, agora eu quero que você crie uma função em Python que receba um texto como Parâmetro analise quantos artigos, preposições pronomes tem em um texto qualquer. Traga mais de um retorno:  Primeiro uma lista de artigos e em seguida sua quantidade  Depois a lista de preposições e sua quantidade  Depois a lista de Pronomes (todo os tipos) e em seguida sua quantidade."
      ],
      "metadata": {
        "id": "XCVKukYzHdDw"
      }
    },
    {
      "cell_type": "code",
      "source": [
        "!python -m spacy download pt_core_news_sm"
      ],
      "metadata": {
        "colab": {
          "base_uri": "https://localhost:8080/"
        },
        "id": "S1W_xUfAHhrX",
        "outputId": "e6df87da-8327-4112-e1ad-585ef850f3df"
      },
      "execution_count": 7,
      "outputs": [
        {
          "output_type": "stream",
          "name": "stdout",
          "text": [
            "2023-11-20 23:44:23.682463: E tensorflow/compiler/xla/stream_executor/cuda/cuda_dnn.cc:9342] Unable to register cuDNN factory: Attempting to register factory for plugin cuDNN when one has already been registered\n",
            "2023-11-20 23:44:23.682539: E tensorflow/compiler/xla/stream_executor/cuda/cuda_fft.cc:609] Unable to register cuFFT factory: Attempting to register factory for plugin cuFFT when one has already been registered\n",
            "2023-11-20 23:44:23.682574: E tensorflow/compiler/xla/stream_executor/cuda/cuda_blas.cc:1518] Unable to register cuBLAS factory: Attempting to register factory for plugin cuBLAS when one has already been registered\n",
            "2023-11-20 23:44:23.692043: I tensorflow/core/platform/cpu_feature_guard.cc:182] This TensorFlow binary is optimized to use available CPU instructions in performance-critical operations.\n",
            "To enable the following instructions: AVX2 FMA, in other operations, rebuild TensorFlow with the appropriate compiler flags.\n",
            "2023-11-20 23:44:24.930371: W tensorflow/compiler/tf2tensorrt/utils/py_utils.cc:38] TF-TRT Warning: Could not find TensorRT\n",
            "Collecting pt-core-news-sm==3.6.0\n",
            "  Downloading https://github.com/explosion/spacy-models/releases/download/pt_core_news_sm-3.6.0/pt_core_news_sm-3.6.0-py3-none-any.whl (13.0 MB)\n",
            "\u001b[2K     \u001b[90m━━━━━━━━━━━━━━━━━━━━━━━━━━━━━━━━━━━━━━━━\u001b[0m \u001b[32m13.0/13.0 MB\u001b[0m \u001b[31m20.7 MB/s\u001b[0m eta \u001b[36m0:00:00\u001b[0m\n",
            "\u001b[?25hRequirement already satisfied: spacy<3.7.0,>=3.6.0 in /usr/local/lib/python3.10/dist-packages (from pt-core-news-sm==3.6.0) (3.6.1)\n",
            "Requirement already satisfied: spacy-legacy<3.1.0,>=3.0.11 in /usr/local/lib/python3.10/dist-packages (from spacy<3.7.0,>=3.6.0->pt-core-news-sm==3.6.0) (3.0.12)\n",
            "Requirement already satisfied: spacy-loggers<2.0.0,>=1.0.0 in /usr/local/lib/python3.10/dist-packages (from spacy<3.7.0,>=3.6.0->pt-core-news-sm==3.6.0) (1.0.5)\n",
            "Requirement already satisfied: murmurhash<1.1.0,>=0.28.0 in /usr/local/lib/python3.10/dist-packages (from spacy<3.7.0,>=3.6.0->pt-core-news-sm==3.6.0) (1.0.10)\n",
            "Requirement already satisfied: cymem<2.1.0,>=2.0.2 in /usr/local/lib/python3.10/dist-packages (from spacy<3.7.0,>=3.6.0->pt-core-news-sm==3.6.0) (2.0.8)\n",
            "Requirement already satisfied: preshed<3.1.0,>=3.0.2 in /usr/local/lib/python3.10/dist-packages (from spacy<3.7.0,>=3.6.0->pt-core-news-sm==3.6.0) (3.0.9)\n",
            "Requirement already satisfied: thinc<8.2.0,>=8.1.8 in /usr/local/lib/python3.10/dist-packages (from spacy<3.7.0,>=3.6.0->pt-core-news-sm==3.6.0) (8.1.12)\n",
            "Requirement already satisfied: wasabi<1.2.0,>=0.9.1 in /usr/local/lib/python3.10/dist-packages (from spacy<3.7.0,>=3.6.0->pt-core-news-sm==3.6.0) (1.1.2)\n",
            "Requirement already satisfied: srsly<3.0.0,>=2.4.3 in /usr/local/lib/python3.10/dist-packages (from spacy<3.7.0,>=3.6.0->pt-core-news-sm==3.6.0) (2.4.8)\n",
            "Requirement already satisfied: catalogue<2.1.0,>=2.0.6 in /usr/local/lib/python3.10/dist-packages (from spacy<3.7.0,>=3.6.0->pt-core-news-sm==3.6.0) (2.0.10)\n",
            "Requirement already satisfied: typer<0.10.0,>=0.3.0 in /usr/local/lib/python3.10/dist-packages (from spacy<3.7.0,>=3.6.0->pt-core-news-sm==3.6.0) (0.9.0)\n",
            "Requirement already satisfied: pathy>=0.10.0 in /usr/local/lib/python3.10/dist-packages (from spacy<3.7.0,>=3.6.0->pt-core-news-sm==3.6.0) (0.10.3)\n",
            "Requirement already satisfied: smart-open<7.0.0,>=5.2.1 in /usr/local/lib/python3.10/dist-packages (from spacy<3.7.0,>=3.6.0->pt-core-news-sm==3.6.0) (6.4.0)\n",
            "Requirement already satisfied: tqdm<5.0.0,>=4.38.0 in /usr/local/lib/python3.10/dist-packages (from spacy<3.7.0,>=3.6.0->pt-core-news-sm==3.6.0) (4.66.1)\n",
            "Requirement already satisfied: numpy>=1.15.0 in /usr/local/lib/python3.10/dist-packages (from spacy<3.7.0,>=3.6.0->pt-core-news-sm==3.6.0) (1.23.5)\n",
            "Requirement already satisfied: requests<3.0.0,>=2.13.0 in /usr/local/lib/python3.10/dist-packages (from spacy<3.7.0,>=3.6.0->pt-core-news-sm==3.6.0) (2.31.0)\n",
            "Requirement already satisfied: pydantic!=1.8,!=1.8.1,<3.0.0,>=1.7.4 in /usr/local/lib/python3.10/dist-packages (from spacy<3.7.0,>=3.6.0->pt-core-news-sm==3.6.0) (1.10.13)\n",
            "Requirement already satisfied: jinja2 in /usr/local/lib/python3.10/dist-packages (from spacy<3.7.0,>=3.6.0->pt-core-news-sm==3.6.0) (3.1.2)\n",
            "Requirement already satisfied: setuptools in /usr/local/lib/python3.10/dist-packages (from spacy<3.7.0,>=3.6.0->pt-core-news-sm==3.6.0) (67.7.2)\n",
            "Requirement already satisfied: packaging>=20.0 in /usr/local/lib/python3.10/dist-packages (from spacy<3.7.0,>=3.6.0->pt-core-news-sm==3.6.0) (23.2)\n",
            "Requirement already satisfied: langcodes<4.0.0,>=3.2.0 in /usr/local/lib/python3.10/dist-packages (from spacy<3.7.0,>=3.6.0->pt-core-news-sm==3.6.0) (3.3.0)\n",
            "Requirement already satisfied: typing-extensions>=4.2.0 in /usr/local/lib/python3.10/dist-packages (from pydantic!=1.8,!=1.8.1,<3.0.0,>=1.7.4->spacy<3.7.0,>=3.6.0->pt-core-news-sm==3.6.0) (4.5.0)\n",
            "Requirement already satisfied: charset-normalizer<4,>=2 in /usr/local/lib/python3.10/dist-packages (from requests<3.0.0,>=2.13.0->spacy<3.7.0,>=3.6.0->pt-core-news-sm==3.6.0) (3.3.2)\n",
            "Requirement already satisfied: idna<4,>=2.5 in /usr/local/lib/python3.10/dist-packages (from requests<3.0.0,>=2.13.0->spacy<3.7.0,>=3.6.0->pt-core-news-sm==3.6.0) (3.4)\n",
            "Requirement already satisfied: urllib3<3,>=1.21.1 in /usr/local/lib/python3.10/dist-packages (from requests<3.0.0,>=2.13.0->spacy<3.7.0,>=3.6.0->pt-core-news-sm==3.6.0) (2.0.7)\n",
            "Requirement already satisfied: certifi>=2017.4.17 in /usr/local/lib/python3.10/dist-packages (from requests<3.0.0,>=2.13.0->spacy<3.7.0,>=3.6.0->pt-core-news-sm==3.6.0) (2023.7.22)\n",
            "Requirement already satisfied: blis<0.8.0,>=0.7.8 in /usr/local/lib/python3.10/dist-packages (from thinc<8.2.0,>=8.1.8->spacy<3.7.0,>=3.6.0->pt-core-news-sm==3.6.0) (0.7.11)\n",
            "Requirement already satisfied: confection<1.0.0,>=0.0.1 in /usr/local/lib/python3.10/dist-packages (from thinc<8.2.0,>=8.1.8->spacy<3.7.0,>=3.6.0->pt-core-news-sm==3.6.0) (0.1.3)\n",
            "Requirement already satisfied: click<9.0.0,>=7.1.1 in /usr/local/lib/python3.10/dist-packages (from typer<0.10.0,>=0.3.0->spacy<3.7.0,>=3.6.0->pt-core-news-sm==3.6.0) (8.1.7)\n",
            "Requirement already satisfied: MarkupSafe>=2.0 in /usr/local/lib/python3.10/dist-packages (from jinja2->spacy<3.7.0,>=3.6.0->pt-core-news-sm==3.6.0) (2.1.3)\n",
            "Installing collected packages: pt-core-news-sm\n",
            "Successfully installed pt-core-news-sm-3.6.0\n",
            "\u001b[38;5;2m✔ Download and installation successful\u001b[0m\n",
            "You can now load the package via spacy.load('pt_core_news_sm')\n"
          ]
        }
      ]
    },
    {
      "cell_type": "code",
      "source": [
        "import spacy"
      ],
      "metadata": {
        "id": "EevF-cCTHtXm"
      },
      "execution_count": 8,
      "outputs": []
    },
    {
      "cell_type": "code",
      "source": [
        "nlp = spacy.load (\"pt_core_news_sm\")\n",
        "\n",
        "texto = ''' Programação é o processo de escrita, teste e manutenção de um programa de computador. O programa é escrito em uma linguagem de programação, embora seja possível, com alguma dificuldade, o escrever diretamente em linguagem de máquina. Diferentes partes de um programa podem ser escritas em diferentes linguagens.\n",
        "\n",
        "Diferentes linguagens de programação funcionam de diferentes modos. Por esse motivo, os programadores podem criar programas muito diferentes para diferentes linguagens; muito embora, teoricamente, a maioria das linguagens possa ser usada para criar qualquer programa.\n",
        "\n",
        "Há várias décadas se debate se a programação é mais semelhante a uma arte (Donald Knuth), a uma ciência, à matemática (Edsger Dijkstra), à engenharia (David Parnas), ou se é um campo completamente novo. '''\n",
        "\n",
        "doc = nlp(texto)\n",
        "\n",
        "print (\"ARTIGOS\")\n",
        "print (\"\")\n",
        "\n",
        "for token in doc:\n",
        "  if token.pos_ == \"DET\" :\n",
        "     print (f\"Artigos encontrados: {token.text}\")\n",
        "\n",
        "print (\"\")\n",
        "print (\"PREPOSIÇÕES\")\n",
        "print (\"\")\n",
        "\n",
        "for token in doc:\n",
        "  if token.pos_ == \"ADP\" :\n",
        "     print (f\"Preposições encontradas: {token.text} \")\n",
        "\n",
        "print (\"\")\n",
        "print (\"PRONOMES\")\n",
        "print (\"\")\n",
        "\n",
        "for token in doc:\n",
        "  if token.pos_ == \"PRON\" or token.pos_ == \"PRP$\" or token.pos_ == \"PRP\" :\n",
        "    print (f\"Pronomes encontrados: {token.text}\")"
      ],
      "metadata": {
        "colab": {
          "base_uri": "https://localhost:8080/"
        },
        "id": "o9DdVPAGH1XL",
        "outputId": "58cf846a-b41c-4b43-c28e-87ff2d4efe13"
      },
      "execution_count": 9,
      "outputs": [
        {
          "output_type": "stream",
          "name": "stdout",
          "text": [
            "ARTIGOS\n",
            "\n",
            "Artigos encontrados: o\n",
            "Artigos encontrados: um\n",
            "Artigos encontrados: O\n",
            "Artigos encontrados: uma\n",
            "Artigos encontrados: alguma\n",
            "Artigos encontrados: o\n",
            "Artigos encontrados: Diferentes\n",
            "Artigos encontrados: um\n",
            "Artigos encontrados: diferentes\n",
            "Artigos encontrados: Diferentes\n",
            "Artigos encontrados: diferentes\n",
            "Artigos encontrados: esse\n",
            "Artigos encontrados: os\n",
            "Artigos encontrados: diferentes\n",
            "Artigos encontrados: a\n",
            "Artigos encontrados: qualquer\n",
            "Artigos encontrados: várias\n",
            "Artigos encontrados: a\n",
            "Artigos encontrados: uma\n",
            "Artigos encontrados: uma\n",
            "Artigos encontrados: um\n",
            "\n",
            "PREPOSIÇÕES\n",
            "\n",
            "Preposições encontradas: de \n",
            "Preposições encontradas: de \n",
            "Preposições encontradas: de \n",
            "Preposições encontradas: em \n",
            "Preposições encontradas: de \n",
            "Preposições encontradas: com \n",
            "Preposições encontradas: em \n",
            "Preposições encontradas: de \n",
            "Preposições encontradas: de \n",
            "Preposições encontradas: em \n",
            "Preposições encontradas: de \n",
            "Preposições encontradas: de \n",
            "Preposições encontradas: Por \n",
            "Preposições encontradas: para \n",
            "Preposições encontradas: das \n",
            "Preposições encontradas: a \n",
            "Preposições encontradas: a \n",
            "Preposições encontradas: à \n",
            "Preposições encontradas: à \n",
            "\n",
            "PRONOMES\n",
            "\n"
          ]
        }
      ]
    }
  ]
}