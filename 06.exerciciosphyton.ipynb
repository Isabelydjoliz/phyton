{
  "nbformat": 4,
  "nbformat_minor": 0,
  "metadata": {
    "colab": {
      "provenance": [],
      "include_colab_link": true
    },
    "kernelspec": {
      "name": "python3",
      "display_name": "Python 3"
    },
    "language_info": {
      "name": "python"
    }
  },
  "cells": [
    {
      "cell_type": "markdown",
      "metadata": {
        "id": "view-in-github",
        "colab_type": "text"
      },
      "source": [
        "<a href=\"https://colab.research.google.com/github/Isabelydjoliz/phyton/blob/main/exerciciosphyton.ipynb\" target=\"_parent\"><img src=\"https://colab.research.google.com/assets/colab-badge.svg\" alt=\"Open In Colab\"/></a>"
      ]
    },
    {
      "cell_type": "markdown",
      "source": [
        "Isabely D'joliz e Gulherme Augusto\n",
        "1°C - ETEC MCM"
      ],
      "metadata": {
        "id": "4oOlnVY-QjH0"
      }
    },
    {
      "cell_type": "code",
      "source": [
        "# Exercício 1 inserir os seus dados acima em variáveis\n",
        "#Exemplo\n",
        "nome = \"Isabely D'joliz\"\n",
        "nome2 = \"Guilherme Augusto\"\n",
        "Turma = \"manha\"\n",
        "curso = \"TI\"\n",
        "periodo = \"manha\"\n",
        "#continue....."
      ],
      "metadata": {
        "id": "lDLYV-zOJa_v"
      },
      "execution_count": null,
      "outputs": []
    },
    {
      "cell_type": "code",
      "source": [
        "# Exercício 2 -Apos inserir dados acima usando o slicing (exemplo no notebook de manipulação de Strings), imprima na tela apenas seu sobrenome\n",
        "nome[8:]"
      ],
      "metadata": {
        "colab": {
          "base_uri": "https://localhost:8080/",
          "height": 35
        },
        "id": "MUFH0TVUJiIv",
        "outputId": "e8c25853-94a6-4a13-b728-ebf96a5da862"
      },
      "execution_count": null,
      "outputs": [
        {
          "output_type": "execute_result",
          "data": {
            "text/plain": [
              "\"D'joliz\""
            ],
            "application/vnd.google.colaboratory.intrinsic+json": {
              "type": "string"
            }
          },
          "metadata": {},
          "execution_count": 3
        }
      ]
    },
    {
      "cell_type": "code",
      "source": [
        "nome2[10:]"
      ],
      "metadata": {
        "colab": {
          "base_uri": "https://localhost:8080/",
          "height": 35
        },
        "id": "yeZbTLh5A87v",
        "outputId": "a6c1aa48-03c9-4a5d-ae91-29bca271ddaa"
      },
      "execution_count": null,
      "outputs": [
        {
          "output_type": "execute_result",
          "data": {
            "text/plain": [
              "'Augusto'"
            ],
            "application/vnd.google.colaboratory.intrinsic+json": {
              "type": "string"
            }
          },
          "metadata": {},
          "execution_count": 4
        }
      ]
    },
    {
      "cell_type": "code",
      "source": [
        "# Exercício 3 -  imprima seu nome de trás pra frente\n",
        "nome [::-1]"
      ],
      "metadata": {
        "colab": {
          "base_uri": "https://localhost:8080/",
          "height": 35
        },
        "id": "t-w9H4GYJk5X",
        "outputId": "bd82fbeb-31e5-4880-bc94-7a2904ba33fd"
      },
      "execution_count": null,
      "outputs": [
        {
          "output_type": "execute_result",
          "data": {
            "text/plain": [
              "\"ziloj'D ylebasI\""
            ],
            "application/vnd.google.colaboratory.intrinsic+json": {
              "type": "string"
            }
          },
          "metadata": {},
          "execution_count": 5
        }
      ]
    },
    {
      "cell_type": "code",
      "source": [
        "nome2 [::-1]"
      ],
      "metadata": {
        "colab": {
          "base_uri": "https://localhost:8080/",
          "height": 35
        },
        "id": "ToFKIyQ4BCFs",
        "outputId": "05816fe5-5545-4eaa-af02-bb9a38fe4ab6"
      },
      "execution_count": null,
      "outputs": [
        {
          "output_type": "execute_result",
          "data": {
            "text/plain": [
              "'otsuguA emrehliuG'"
            ],
            "application/vnd.google.colaboratory.intrinsic+json": {
              "type": "string"
            }
          },
          "metadata": {},
          "execution_count": 6
        }
      ]
    },
    {
      "cell_type": "code",
      "source": [
        "# Exercício 4 - pegue a frase abaixo, aplique o split para fazer uma quebra toda vez que encontrar uma \",\"\n",
        "frase = \"Python é a linguagem ideal para o primeiro contato com programação, além da sua sintaxe simples e muito poderosa, Python tem diversas aplicações como: desenvolvimento web, análise de dados, inteligência artificial e automatização de tarefas, neste curso você aprenderá a lógica de programação para conquistar fluência na linguagem, a comunidade Python é a que mais cresce, assim como sua demanda de profissionais no mercado.\"\n",
        "frase.split(\",\")"
      ],
      "metadata": {
        "colab": {
          "base_uri": "https://localhost:8080/"
        },
        "id": "nzqHHSgtJos0",
        "outputId": "f1bae49d-919d-4dea-990f-79109cdee4fe"
      },
      "execution_count": null,
      "outputs": [
        {
          "output_type": "execute_result",
          "data": {
            "text/plain": [
              "['Python é a linguagem ideal para o primeiro contato com programação',\n",
              " ' além da sua sintaxe simples e muito poderosa',\n",
              " ' Python tem diversas aplicações como: desenvolvimento web',\n",
              " ' análise de dados',\n",
              " ' inteligência artificial e automatização de tarefas',\n",
              " ' neste curso você aprenderá a lógica de programação para conquistar fluência na linguagem',\n",
              " ' a comunidade Python é a que mais cresce',\n",
              " ' assim como sua demanda de profissionais no mercado.']"
            ]
          },
          "metadata": {},
          "execution_count": 5
        }
      ]
    },
    {
      "cell_type": "code",
      "execution_count": null,
      "metadata": {
        "colab": {
          "base_uri": "https://localhost:8080/"
        },
        "id": "PIu_xBMGIeEY",
        "outputId": "75323b7b-fa72-41e0-bdc9-11f21e5fa782"
      },
      "outputs": [
        {
          "output_type": "stream",
          "name": "stdout",
          "text": [
            "1\n",
            "2\n",
            "3\n",
            "4\n",
            "5\n",
            "6\n",
            "7\n",
            "8\n",
            "9\n",
            "10\n"
          ]
        }
      ],
      "source": [
        "num = [1,2,3,4,5,6,7,8,9,10]\n",
        "\n",
        "for n in num:\n",
        "  print(n)"
      ]
    },
    {
      "cell_type": "code",
      "source": [
        "# Exercício 6 - Crie uma lista de 5 objetos e imprima na tela\n",
        "objetos = [\"caderno\", \"lápis\", \"borracha\", \"estojo\", \"caneta\"]\n",
        "for n in objetos:\n",
        "  print(n)"
      ],
      "metadata": {
        "colab": {
          "base_uri": "https://localhost:8080/"
        },
        "id": "x-0RJSjjJ1Ik",
        "outputId": "d8d40bd0-91b2-4544-8dc1-ccb8c98ca909"
      },
      "execution_count": null,
      "outputs": [
        {
          "output_type": "stream",
          "name": "stdout",
          "text": [
            "caderno\n",
            "lápis\n",
            "borracha\n",
            "estojo\n",
            "caneta\n"
          ]
        }
      ]
    },
    {
      "cell_type": "code",
      "source": [
        "# Exercício 7 - - Crie duas strings e concatene as duas em uma terceira string\n",
        "'eu sou do primeiro c'\n",
        "'o primeiro c é legal'\n",
        "'eu não faço RH'\n",
        "'eu sou do primeiro C' + ' ,o primeiro C é legal'"
      ],
      "metadata": {
        "colab": {
          "base_uri": "https://localhost:8080/",
          "height": 36
        },
        "id": "rHH62hF4KP4O",
        "outputId": "bbe0cc12-f74d-46df-d2a9-add407ff4460"
      },
      "execution_count": null,
      "outputs": [
        {
          "output_type": "execute_result",
          "data": {
            "text/plain": [
              "'eu sou do primeiro c ,o primeiro c é legal'"
            ],
            "application/vnd.google.colaboratory.intrinsic+json": {
              "type": "string"
            }
          },
          "metadata": {},
          "execution_count": 13
        }
      ]
    },
    {
      "cell_type": "code",
      "source": [
        "'eu sou do primeiro c ,o primeiro c é legal' + ' ,eu não faço RH'"
      ],
      "metadata": {
        "colab": {
          "base_uri": "https://localhost:8080/",
          "height": 36
        },
        "id": "yFisnD7VLH-5",
        "outputId": "822d9985-f86b-4ffe-a03f-fc8bc82e3da0"
      },
      "execution_count": null,
      "outputs": [
        {
          "output_type": "execute_result",
          "data": {
            "text/plain": [
              "'eu sou do primeiro c ,o primeiro c é legal ,eu não faço RH'"
            ],
            "application/vnd.google.colaboratory.intrinsic+json": {
              "type": "string"
            }
          },
          "metadata": {},
          "execution_count": 14
        }
      ]
    },
    {
      "cell_type": "code",
      "source": [
        "# Exercício 8 - Crie uma tupla com os seguintes elementos: 1, 2, 2, 3, 4, 4, 4, 5 e depois utilize a função count do\n",
        "# objeto tupla para verificar quantas vezes o número 4 aparece na tupla\n",
        "tupla = (1, 2, 2, 3, 4, 4, 4, 5)\n",
        "contador = tupla.count (4)\n",
        "print(contador)"
      ],
      "metadata": {
        "colab": {
          "base_uri": "https://localhost:8080/"
        },
        "id": "DZPsaZ1wLQiG",
        "outputId": "9308dd9e-bbed-402b-ec5d-3582f2fc366e"
      },
      "execution_count": null,
      "outputs": [
        {
          "output_type": "stream",
          "name": "stdout",
          "text": [
            "3\n"
          ]
        }
      ]
    },
    {
      "cell_type": "code",
      "source": [
        "# Exercício 9 - Crie um dicionário vazio e imprima na tela\n",
        "dicionariovazio = {}\n",
        "print(dicionariovazio)"
      ],
      "metadata": {
        "colab": {
          "base_uri": "https://localhost:8080/"
        },
        "id": "wIAT-Gt4L_TG",
        "outputId": "f06506a3-33cd-4bcb-b21b-6550b0371661"
      },
      "execution_count": null,
      "outputs": [
        {
          "output_type": "stream",
          "name": "stdout",
          "text": [
            "{}\n"
          ]
        }
      ]
    },
    {
      "cell_type": "code",
      "source": [
        "# Exercício 10 - Crie um dicionário com 3 chaves e 3 valores e imprima na tela\n",
        "nomeseidades = {\"livia\": 21, \"adriana\": 12, \"marcos\": 34}\n",
        "print(nomeseidades)"
      ],
      "metadata": {
        "colab": {
          "base_uri": "https://localhost:8080/"
        },
        "id": "tnQIDWj5MfEh",
        "outputId": "972a8f28-22eb-4d2a-ef91-ba815dc0b8fe"
      },
      "execution_count": null,
      "outputs": [
        {
          "output_type": "stream",
          "name": "stdout",
          "text": [
            "{'livia': 21, 'adriana': 12, 'marcos': 34}\n"
          ]
        }
      ]
    },
    {
      "cell_type": "code",
      "source": [
        "# Exercício 11 - Adicione mais um elemento ao dicionário criado no exercício anterior e imprima na tela\n",
        "nomeseidades[\"Jack\"] = 40\n",
        "print(nomeseidades)"
      ],
      "metadata": {
        "colab": {
          "base_uri": "https://localhost:8080/"
        },
        "id": "qM9O9ABLM7pK",
        "outputId": "682dda9e-b349-4523-f0d3-7f3a7b78701e"
      },
      "execution_count": null,
      "outputs": [
        {
          "output_type": "stream",
          "name": "stdout",
          "text": [
            "{'livia': 21, 'adriana': 12, 'marcos': 34, 'Jack': 40}\n"
          ]
        }
      ]
    },
    {
      "cell_type": "code",
      "source": [
        "# Exercício 12 - Crie um dicionário com 3 chaves e 3 valores. Um dos valores deve ser uma lista de 2 elementos numéricos.\n",
        "# Imprima o dicionário na tela.\n",
        "estojos = {'estojo1':12,'estojo2':23,'estojo3':[12, 3]}\n",
        "print(estojos)"
      ],
      "metadata": {
        "colab": {
          "base_uri": "https://localhost:8080/"
        },
        "id": "iYknCsYqNVyA",
        "outputId": "9027f780-1ca1-4fa1-dbfe-8c6a340539c5"
      },
      "execution_count": null,
      "outputs": [
        {
          "output_type": "stream",
          "name": "stdout",
          "text": [
            "{'estojo1': 12, 'estojo2': 23, 'estojo3': [12, 3]}\n"
          ]
        }
      ]
    },
    {
      "cell_type": "code",
      "source": [
        "# Exercício 13 - Crie uma lista de 4 elementos. O primeiro elemento deve ser uma string,\n",
        "# o segundo uma tupla de 2 elementos, o terceiro um dcionário com 2 chaves e 2 valores e\n",
        "# o quarto elemento um valor do tipo float.\n",
        "# Imprima a lista na tela.\n",
        "elementos = ['elemento um', (2,3),{'quatro':4, 'cinco':5}, float(input('Digite o numero 6: '))]\n",
        "print(elementos)\n"
      ],
      "metadata": {
        "colab": {
          "base_uri": "https://localhost:8080/"
        },
        "id": "44Ea6h-iOo5d",
        "outputId": "ba143c11-e43f-4dc2-bacd-b3e4a1c735ed"
      },
      "execution_count": null,
      "outputs": [
        {
          "output_type": "stream",
          "name": "stdout",
          "text": [
            "Digite o numero 6: 6\n",
            "['elemento um', (2, 3), {'quatro': 4, 'cinco': 5}, 6.0]\n"
          ]
        }
      ]
    },
    {
      "cell_type": "code",
      "source": [
        "# Exercício 14 - Considere a string abaixo. Imprima na tela apenas os caracteres da posição 1 a 18.\n",
        "frase = 'Cientista de Dados é o profissional mais sexy do século XXI'\n",
        "frase[1:18]"
      ],
      "metadata": {
        "colab": {
          "base_uri": "https://localhost:8080/",
          "height": 36
        },
        "id": "r3HkVwpfP8rh",
        "outputId": "ead738e0-9f3f-41ee-9e26-257972ec3735"
      },
      "execution_count": null,
      "outputs": [
        {
          "output_type": "execute_result",
          "data": {
            "text/plain": [
              "'ientista de Dados'"
            ],
            "application/vnd.google.colaboratory.intrinsic+json": {
              "type": "string"
            }
          },
          "metadata": {},
          "execution_count": 32
        }
      ]
    }
  ]
}
